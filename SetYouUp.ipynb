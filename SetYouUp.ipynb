{
 "cells": [
  {
   "cell_type": "markdown",
   "id": "88cc816e",
   "metadata": {},
   "source": [
    "# Project Setup\n",
    "\n",
    "This notebook will guide you through setting up your Python environment and downloading the dataset for the project.\n"
   ]
  },
  {
   "cell_type": "code",
   "execution_count": null,
   "id": "abb57d53",
   "metadata": {},
   "outputs": [],
   "source": [
    "# Install Poetry (if not already installed)\n",
    "!pip install poetry"
   ]
  },
  {
   "cell_type": "code",
   "execution_count": null,
   "id": "3da0ba4d",
   "metadata": {},
   "outputs": [],
   "source": [
    "# Install pyenv-win and add to environment variables (if not already installed)\n",
    "!pip install pyenv-win --target %USERPROFILE%\\.pyenv\n",
    "!setx PATH \"%USERPROFILE%\\.pyenv\\pyenv-win\\bin;%USERPROFILE%\\.pyenv\\pyenv-win\\shims;%PATH%\""
   ]
  },
  {
   "cell_type": "code",
   "execution_count": null,
   "id": "5bea82bd",
   "metadata": {},
   "outputs": [],
   "source": [
    "import os\n",
    "\n",
    "# Install Python 3.11.6 using pyenv\n",
    "os.system('pyenv install 3.11.6')\n",
    "\n",
    "# Set local Python version to 3.11.6\n",
    "os.system('pyenv local 3.11.6')\n",
    "\n",
    "# Install project dependencies with poetry\n",
    "os.system('poetry install')\n",
    "\n"
   ]
  },
  {
   "cell_type": "code",
   "execution_count": null,
   "id": "2d9b7547",
   "metadata": {},
   "outputs": [],
   "source": [
    "# Once everything is set up, you can download the dataset by running the following in your terminal:\n",
    "os.system ('python house_rental/dataset.py')"
   ]
  }
 ],
 "metadata": {
  "kernelspec": {
   "display_name": "Python 3",
   "language": "python",
   "name": "python3"
  },
  "language_info": {
   "codemirror_mode": {
    "name": "ipython",
    "version": 3
   },
   "file_extension": ".py",
   "mimetype": "text/x-python",
   "name": "python",
   "nbconvert_exporter": "python",
   "pygments_lexer": "ipython3",
   "version": "3.13.7"
  }
 },
 "nbformat": 4,
 "nbformat_minor": 5
}
